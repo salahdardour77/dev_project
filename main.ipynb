{
 "cells": [
  {
   "cell_type": "code",
   "execution_count": 1,
   "id": "31b9ada4",
   "metadata": {
    "colab": {
     "base_uri": "https://localhost:8080/",
     "height": 349
    },
    "id": "31b9ada4",
    "outputId": "95559580-922e-40e3-dfeb-368a365f115d"
   },
   "outputs": [],
   "source": [
    "import os\n",
    "import chainlit as cl\n",
    "from langchain import HuggingFaceHub, PromptTemplate, LLMChain"
   ]
  },
  {
   "cell_type": "code",
   "execution_count": 2,
   "id": "4c77641b",
   "metadata": {
    "id": "4c77641b"
   },
   "outputs": [],
   "source": [
    "\n",
    "HUGGINGFACEHUB_API_TOKEN= \"hugging face api\"\n",
    "os.environ['HUGGINGFACEHUB_API_TOKEN']= HUGGINGFACEHUB_API_TOKEN"
   ]
  },
  {
   "cell_type": "code",
   "execution_count": 8,
   "id": "e3538fc7",
   "metadata": {
    "id": "e3538fc7"
   },
   "outputs": [
    {
     "name": "stderr",
     "output_type": "stream",
     "text": [
      "c:\\Users\\dardo\\Desktop\\projet dev\\.venv\\lib\\site-packages\\huggingface_hub\\utils\\_deprecation.py:131: FutureWarning: 'InferenceApi' (from 'huggingface_hub.inference_api') is deprecated and will be removed from version '1.0'. `InferenceApi` client is deprecated in favor of the more feature-complete `InferenceClient`. Check out this guide to learn how to convert your script to use it: https://huggingface.co/docs/huggingface_hub/guides/inference#legacy-inferenceapi-client.\n",
      "  warnings.warn(warning_message, FutureWarning)\n"
     ]
    }
   ],
   "source": [
    "model_id= \"google/flan-t5-xxl\"\n",
    "conv= HuggingFaceHub(huggingfacehub_api_token= HUGGINGFACEHUB_API_TOKEN,\n",
    "                     repo_id=model_id,\n",
    "                     model_kwargs={\"temperature\":0.8, \"max_new_tokens\":200})"
   ]
  },
  {
   "cell_type": "code",
   "execution_count": 16,
   "id": "dMbFs_r2VUn5",
   "metadata": {
    "id": "dMbFs_r2VUn5"
   },
   "outputs": [],
   "source": [
    "template= \"\"\"act as a expenses managing advisors that answer questions about how should the user spend his money. The user will ask you questions and you will answer with some detailed answers and advices. the answer should begin with \"Yes\" or \"No\" and should be explained.\n",
    "answer the following question: {query} \"\"\"\n",
    "\n",
    "prompt= PromptTemplate(template=template, input_variables=['query'])"
   ]
  },
  {
   "cell_type": "code",
   "execution_count": 17,
   "id": "AfW3N0tAV-VR",
   "metadata": {
    "id": "AfW3N0tAV-VR"
   },
   "outputs": [],
   "source": [
    "conv_chain=LLMChain(llm=conv,\n",
    "                    prompt=prompt,\n",
    "                    verbose=True)"
   ]
  },
  {
   "cell_type": "code",
   "execution_count": 18,
   "id": "bqXPd3qqWfar",
   "metadata": {
    "colab": {
     "base_uri": "https://localhost:8080/"
    },
    "id": "bqXPd3qqWfar",
    "outputId": "500c7f79-44ea-44f5-8436-71f0319c7339"
   },
   "outputs": [
    {
     "name": "stdout",
     "output_type": "stream",
     "text": [
      "\n",
      "\n",
      "\u001b[1m> Entering new LLMChain chain...\u001b[0m\n",
      "Prompt after formatting:\n",
      "\u001b[32;1m\u001b[1;3mact as a expenses managing advisors that answer questions about how should the user spend his money. The user will ask you questions and you will answer with some detailed answers and advices. the answer should begin with \"Yes\" or \"No\" and should be explained.\n",
      "answer the following question: should i buy an iphone that cost 1000$ while i earn 3000$ a month? \u001b[0m\n",
      "\n",
      "\u001b[1m> Finished chain.\u001b[0m\n",
      "ive had good success with my old phone iphone and it was a great experience. i would feel like i can make more of a difference by selling it to someone who will pay me 3000$ for it. i would love to sell this new device and i need 5 of these to do it. I would also like to ask you a number of questions from me and you can choose not to answer them.\n",
      "answer: What is the average monthly pay for an expert in the field? ive been in the field for a little over 8 years and i have received advice from the industry professionals to know the best way and make sure I am making the right investment for me. ive heard a lot of people saying that they are paying for their expert advice. ive been asking a lot of questions of myself about my spending habits and i have to say that im not that successful for 2 reasons: 1) i didnt really get advice from my friends i read all the advice and if i\n"
     ]
    }
   ],
   "source": [
    "print(conv_chain.run(\"should i buy an iphone that cost 1000$ while i earn 3000$ a month?\"))"
   ]
  },
  {
   "cell_type": "code",
   "execution_count": null,
   "id": "c9c54a5b",
   "metadata": {},
   "outputs": [],
   "source": []
  },
  {
   "cell_type": "code",
   "execution_count": null,
   "id": "20567471",
   "metadata": {},
   "outputs": [],
   "source": []
  }
 ],
 "metadata": {
  "colab": {
   "provenance": []
  },
  "kernelspec": {
   "display_name": "Python 3 (ipykernel)",
   "language": "python",
   "name": "python3"
  },
  "language_info": {
   "codemirror_mode": {
    "name": "ipython",
    "version": 3
   },
   "file_extension": ".py",
   "mimetype": "text/x-python",
   "name": "python",
   "nbconvert_exporter": "python",
   "pygments_lexer": "ipython3",
   "version": "3.10.10"
  }
 },
 "nbformat": 4,
 "nbformat_minor": 5
}
